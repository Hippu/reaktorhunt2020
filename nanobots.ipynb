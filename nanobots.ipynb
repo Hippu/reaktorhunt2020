{
 "cells": [
  {
   "cell_type": "markdown",
   "metadata": {},
   "source": [
    "Nanobots can travel around the body, pick up molecules, and deposit them in designated locations. In order to find the source of the problem, you need to move a cluster of nanobots around the body.\n",
    "\n",
    "RECEIVING SIGNAL: hN6h0^nQHqbXDc$tPULv!9FuP!r!^ivCBvZb040ES........\n",
    "The control signal you receive from the nanobot swarm looks like garbage. Something in this girl's body is interfering with all your instruments.\n",
    "\n",
    "To get the correct readings and allow your nanobots to function, you need to do a recalibration by finding a new base value. The base value is embedded in the signal.\n",
    "\n",
    "What you know now:\n",
    "\n",
    "The first character of the base value is the single most frequently occurring character in the signal.\n",
    "Each following character of the base value is the one that occurs the most frequently in the signal immediately after the previous character of the base value. For example, if the first character of the base value is A, then the second character of the base value is the one that occurs the most frequently immediately after A in the signal.\n",
    "The most frequently occurring character after the last character of the base value is ;."
   ]
  },
  {
   "cell_type": "code",
   "execution_count": 1,
   "metadata": {},
   "source": [
    "#!fsharp\n",
    "let input = (System.IO.File.ReadAllLines \"./nanobots_input.txt\").[0]\n",
    "\n",
    "let countChars chars = \n",
    "    Seq.fold (fun state char -> \n",
    "        Map.change char (function\n",
    "        | Some count -> Some (count + 1)\n",
    "        | None -> Some 1) state \n",
    "    ) Map.empty chars\n",
    "\n",
    "let rec countCharsOccuringAfter (chr: char) (acc: Map<char, int>) (chars: char list) =\n",
    "    match chars with\n",
    "    | [] -> acc\n",
    "    | c :: after :: remaining when c = chr -> \n",
    "        countCharsOccuringAfter \n",
    "            chr\n",
    "            (Map.change after (function\n",
    "            | Some count -> Some (count + 1)\n",
    "            | None -> Some 1) acc)\n",
    "            remaining\n",
    "    | _ :: remaining -> countCharsOccuringAfter chr acc remaining\n",
    "\n",
    "let mostFrequent (m: Map<char, int>) = Seq.sortByDescending snd (Map.toSeq m) |> Seq.head |> fst\n",
    "\n",
    "let rec findBaseValue (acc: char list) (input: char list) =\n",
    "    match acc with\n",
    "    | [] -> failwith \"No initial value in acc\"\n",
    "    | ';' :: _ -> List.rev acc\n",
    "    | c :: _ -> findBaseValue ((countCharsOccuringAfter c Map.empty input |> mostFrequent) :: acc) input\n",
    "\n",
    "findBaseValue [countChars input |> mostFrequent] (List.ofSeq input) |> Array.ofList |> System.String\n",
    "\n",
    "\n",
    ""
   ],
   "outputs": [
    {
     "output_type": "execute_result",
     "data": {
      "text/plain": "PArietalLo4bE;"
     },
     "execution_count": 1,
     "metadata": {}
    }
   ]
  }
 ],
 "metadata": {
  "kernelspec": {
   "display_name": ".NET (C#)",
   "language": "C#",
   "name": ".net-csharp"
  },
  "language_info": {
   "file_extension": ".cs",
   "mimetype": "text/x-csharp",
   "name": "C#",
   "pygments_lexer": "csharp",
   "version": "8.0"
  }
 },
 "nbformat": 4,
 "nbformat_minor": 4
}