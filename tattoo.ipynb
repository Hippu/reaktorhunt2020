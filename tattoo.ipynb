{
 "cells": [
  {
   "cell_type": "markdown",
   "metadata": {},
   "source": [
    "You attach an electronic nanomesh tattoo to the girl’s skin.\n",
    "\n",
    "In order to get correct readings from the interface between her skin and your electronics, you’ll need to descramble the data from all 14 channels.\n",
    "\n",
    "Each channel is a data stream that uses a big-endian 8-bit encoding. Every byte in the channel points to another byte in the stream, i.e. the value of the byte is the offset in bytes from the beginning.\n",
    "\n",
    "The channels can contain invalid bytes, which means following their pointer would cause an overflow off the stream.\n",
    "\n",
    "Start reading data from the beginning of the channel, and ignore any invalid bytes until you encounter the first valid byte. After this, follow valid byte pointers until you reach another invalid byte.\n",
    "\n",
    "This invalid byte contributes one character to the password. Repeat this process for all 14 channels to read the complete password."
   ]
  },
  {
   "cell_type": "code",
   "execution_count": 1,
   "metadata": {},
   "source": [
    "#!fsharp\n",
    "let input = System.IO.File.ReadAllLines \"./tattoo_input.txt\" |> List.ofArray\n",
    "\n",
    "let rec parseByte (acc: int) (chars: char list) =\n",
    "    match chars with\n",
    "    | [] -> acc\n",
    "    | '0' :: rest -> parseByte acc rest\n",
    "    | '1' :: rest -> parseByte (acc + (1 <<< (8 - List.length chars))) rest\n",
    "    | c -> failwith \"Unknown input\"\n",
    "\n",
    "let parseInputString (s: string) = Seq.chunkBySize 8 s |> Seq.map (List.ofArray >> List.rev >> parseByte 0)\n",
    "\n",
    "let inputBytes = List.map (parseInputString >> Array.ofSeq) input\n",
    "\n",
    "let rec findPasswordChar (ix: int) (foundFirstValid: bool) (arr: int array) =\n",
    "    match Array.tryItem ix arr, foundFirstValid with\n",
    "    | None, false -> findPasswordChar (ix + 1) false arr\n",
    "    | Some x, false -> if x < Array.length arr then findPasswordChar x true arr else findPasswordChar (ix + 1) false arr\n",
    "    | Some x, true -> findPasswordChar x true arr\n",
    "    | None, true -> ix\n",
    "\n",
    "let ascii = System.Text.ASCIIEncoding ()\n",
    "\n",
    "let foundBytes = List.map (findPasswordChar 0 false >> byte) inputBytes |> Array.ofList\n",
    "\n",
    "ascii.GetChars foundBytes |> System.String"
   ],
   "outputs": [
    {
     "output_type": "execute_result",
     "data": {
      "text/plain": "left-ventricle"
     },
     "execution_count": 1,
     "metadata": {}
    }
   ]
  }
 ],
 "metadata": {
  "kernelspec": {
   "display_name": ".NET (C#)",
   "language": "C#",
   "name": ".net-csharp"
  },
  "language_info": {
   "file_extension": ".cs",
   "mimetype": "text/x-csharp",
   "name": "C#",
   "pygments_lexer": "csharp",
   "version": "8.0"
  }
 },
 "nbformat": 4,
 "nbformat_minor": 4
}